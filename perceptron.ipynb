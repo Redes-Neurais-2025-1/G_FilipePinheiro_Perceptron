{
  "nbformat": 4,
  "nbformat_minor": 0,
  "metadata": {
    "colab": {
      "provenance": []
    },
    "kernelspec": {
      "name": "python3",
      "display_name": "Python 3"
    },
    "language_info": {
      "name": "python"
    }
  },
  "cells": [
    {
      "cell_type": "markdown",
      "source": [
        "## 1 Introdução ao modelo de Perceptron\n",
        "\n",
        "O modelo de algoritmo Perceptron é um modelo de rede neural utilizado para classificação binária, indicando se um elemento pertence ou não a uma determinada classe. Trata-se de um modelo de aprendizado supervisionado.\n",
        "\n",
        "O Perceptron pode receber n parâmetros de entrada, onde cada entrada possui um peso associado. Esses pesos são ajustados durante o treinamento com base em uma função de erro, de modo a minimizar a diferença entre a saída prevista e a saída esperada."
      ],
      "metadata": {
        "id": "9kPGYu_48LoJ"
      }
    },
    {
      "cell_type": "markdown",
      "source": [
        "Um Perceptron de n entrada pode ter sua fronteira de decisão definida por:\n",
        "\n",
        "\n",
        "$u = x_1 w_1 + x_2 w_2 + \\cdots + x_n w_n + b$"
      ],
      "metadata": {
        "id": "vXbb6nVW_BL2"
      }
    },
    {
      "cell_type": "markdown",
      "source": [
        "Onde na equação:\n",
        "* $u$ é o valor intermediário antes da ativação.\n",
        "* $wi$ são os pesos.\n",
        "* $xi$ são as entradas.\n",
        "* $b$ é o bias (viés).\n",
        "\n"
      ],
      "metadata": {
        "id": "ID8Iz5OIACsG"
      }
    },
    {
      "cell_type": "markdown",
      "source": [
        "Como $xi$ é a entrada, e $wi$ seus pesos, logo o seu produto será $xiwi$. A soma ponderada será $Σxiwi$. $u$ também pode ser expresso por $X⋅W+b$, onde $X⋅W$ é o produto escalar dos vetores da entrada e peso.\n"
      ],
      "metadata": {
        "id": "YFchrZyUBA5n"
      }
    },
    {
      "cell_type": "markdown",
      "source": [
        "A implementação, antes da função de ativação, pode ser descrita abaixo:"
      ],
      "metadata": {
        "id": "bMTWlalFGnB_"
      }
    },
    {
      "cell_type": "code",
      "source": [
        "##Peceptron com u antes da função de ativação\n",
        "#entradas binárias\n",
        "x = [1, -1]\n",
        "w = [0.6, 0.4]\n",
        "b = -0.2\n",
        "\n",
        "#criação da função de cálculo do produto escalar\n",
        "def dot(vet1, vet2):\n",
        "    if len(vet1) == len(vet2):\n",
        "      resultado = 0\n",
        "      for i in range(len(vet1)):\n",
        "          resultado += vet1[i] * vet2[i]\n",
        "      return resultado\n",
        "\n",
        "\n",
        "#Aplicação da equação\n",
        "u = dot(x, w) + b\n",
        "\n",
        "u"
      ],
      "metadata": {
        "colab": {
          "base_uri": "https://localhost:8080/"
        },
        "id": "dCABL7ufGfaz",
        "outputId": "47e763db-cc17-44f7-f926-162886e27c17"
      },
      "execution_count": 4,
      "outputs": [
        {
          "output_type": "execute_result",
          "data": {
            "text/plain": [
              "-5.551115123125783e-17"
            ]
          },
          "metadata": {},
          "execution_count": 4
        }
      ]
    },
    {
      "cell_type": "markdown",
      "source": [
        "O valor de u é então passado como entrada para a função de ativação ϕ($u$). A função de ativação  seráuma função onde vai transformar $u$,  que é uma combinação linear, em uma saída binária.\n",
        "A função de ativação a ser utilizada será uma função degrau, mostrada abaixo"
      ],
      "metadata": {
        "id": "8L7zxgB-GjEd"
      }
    },
    {
      "cell_type": "markdown",
      "source": [
        "ϕ($u$) =\\begin{cases}\n",
        "1 & \\text{se } u \\geq 0 \\\\\n",
        "0 & \\text{se } u < 0\n",
        "\\end{cases}"
      ],
      "metadata": {
        "id": "utIecO8pITQb"
      }
    },
    {
      "cell_type": "markdown",
      "source": [
        "Implementando a função de ativação, tem-se:"
      ],
      "metadata": {
        "id": "_XKfev-1M3cf"
      }
    },
    {
      "cell_type": "code",
      "source": [
        "def ativacao_degrau(u):\n",
        "  if u >= 0:\n",
        "      return 1\n",
        "  else:\n",
        "      return 0\n",
        "\n",
        "#set dos parâmetros\n",
        "x = [1, -1]\n",
        "w = [0.6, 0.4]\n",
        "b = -0.2\n",
        "\n",
        "#Aplicação da equação\n",
        "u = dot(x, w) + b\n",
        "\n",
        "#aplicando a função de ativação\n",
        "ativacao_degrau(u)"
      ],
      "metadata": {
        "colab": {
          "base_uri": "https://localhost:8080/"
        },
        "id": "nUnNwSQ9M5Lt",
        "outputId": "560dfd26-3875-43ae-f8ac-032bb4a082d1"
      },
      "execution_count": 7,
      "outputs": [
        {
          "output_type": "execute_result",
          "data": {
            "text/plain": [
              "0"
            ]
          },
          "metadata": {},
          "execution_count": 7
        }
      ]
    },
    {
      "cell_type": "markdown",
      "source": [
        "Esta função é utilizada no Percepetron para transformar o U em uma saída, e, por ser uma função degrau, ela vai  atuar como um limiar de decisão, sendo sua saída 0 ou 1, explicitando seu pertencimento a valores de classe ou booleanos."
      ],
      "metadata": {
        "id": "AKZdNXtTOaBW"
      }
    },
    {
      "cell_type": "markdown",
      "source": [
        "Para calcular o erro (função de custo), pode ser expresso matematicamente:"
      ],
      "metadata": {
        "id": "qhz3EHFKQDe5"
      }
    },
    {
      "cell_type": "markdown",
      "source": [
        "$E = ydesejado − ypredito$"
      ],
      "metadata": {
        "id": "PAvBZ-d7QRUP"
      }
    },
    {
      "cell_type": "markdown",
      "source": [
        "Onde ydesejado é o valor esperado, e ypredito é o valor calculado pelo perceptron.\n",
        "A função de custo pode ser interpretadada em:\n",
        "\\begin{cases}\n",
        "E = 0 & \\text{sem erros, sem necessidade de ajuste de peso} \\\\\n",
        "E \\neq 0 & \\text{com erros, necessário o ajuste de peso }\n",
        "\\end{cases}"
      ],
      "metadata": {
        "id": "1tfKL7JOQdaf"
      }
    },
    {
      "cell_type": "markdown",
      "source": [
        "Uma implementação simples da função de custo pode ser visto a seguir."
      ],
      "metadata": {
        "id": "Tbg2WhZwSltH"
      }
    },
    {
      "cell_type": "code",
      "source": [
        "def calcular_erro(ydesejado, ypredito):\n",
        "  return ydesejado - ypredito\n",
        "\n",
        "#Parâmetros\n",
        "ydesejado = 1\n",
        "ypredito = 0\n",
        "\n",
        "#Aplicação da função\n",
        "calcular_erro(ydesejado, ypredito)"
      ],
      "metadata": {
        "colab": {
          "base_uri": "https://localhost:8080/"
        },
        "id": "lIixB9mqSk2Y",
        "outputId": "af2e0ad9-ea62-48a1-bb22-929065e5c18f"
      },
      "execution_count": 8,
      "outputs": [
        {
          "output_type": "execute_result",
          "data": {
            "text/plain": [
              "1"
            ]
          },
          "metadata": {},
          "execution_count": 8
        }
      ]
    },
    {
      "cell_type": "markdown",
      "source": [
        "Para atualização dos pesos e bias, será necessário utilizar uma equação para cada parâmetro.\n",
        "\n",
        "Para atualização dos pesos:"
      ],
      "metadata": {
        "id": "tsuo6jbxTLJ3"
      }
    },
    {
      "cell_type": "markdown",
      "source": [
        "$wi = wi + n ⋅ e ⋅ xi$"
      ],
      "metadata": {
        "id": "vclwVecuVTly"
      }
    },
    {
      "cell_type": "markdown",
      "source": [
        "Para atualização do bias:"
      ],
      "metadata": {
        "id": "RadSMvovVjmL"
      }
    },
    {
      "cell_type": "markdown",
      "source": [
        "$b = b + n ⋅ e$"
      ],
      "metadata": {
        "id": "y7cJE-GOVm-7"
      }
    },
    {
      "cell_type": "markdown",
      "source": [
        "Onde:\n",
        "\n",
        "*   $wi$ é o peso atual\n",
        "*   $xi$ é o entrada reacionada\n",
        "*   $n$ é a taxa de aprendizado\n",
        "*   $e$ é o erro calculado\n",
        "\n"
      ],
      "metadata": {
        "id": "cCbq_1L7VuUe"
      }
    },
    {
      "cell_type": "markdown",
      "source": [
        "Para implementação de atualização para cada parâmetro, tem-se:"
      ],
      "metadata": {
        "id": "W2FZk5JkWMBV"
      }
    },
    {
      "cell_type": "code",
      "source": [
        "def update(peso, bias, entrada, erro, taxa_aprendizado):\n",
        "  novos_pesos = []\n",
        "  for i in range(len(peso)):\n",
        "    novo_w = peso[i] + taxa_aprendizado * erro * entrada[i]\n",
        "    novos_pesos.append(novo_w)\n",
        "\n",
        "  novo_bias = bias + taxa_aprendizado * erro\n",
        "\n",
        "  return novos_pesos, novo_bias"
      ],
      "metadata": {
        "id": "7PNmRfP_WRxI"
      },
      "execution_count": 11,
      "outputs": []
    },
    {
      "cell_type": "code",
      "source": [
        "#Parâmetros\n",
        "w = [0.6, 0.4]\n",
        "b = -0.2\n",
        "x = [1, -1]\n",
        "erro = 1\n",
        "n = 0.1\n",
        "\n",
        "w_update, b_update = update(w, b, x, erro, n)\n",
        "\n",
        "print(w_update)\n",
        "print(b_update)\n"
      ],
      "metadata": {
        "colab": {
          "base_uri": "https://localhost:8080/"
        },
        "id": "xsBDsRB8XyOl",
        "outputId": "a9905ea8-869c-42b9-bc88-75c1a06051f5"
      },
      "execution_count": 13,
      "outputs": [
        {
          "output_type": "stream",
          "name": "stdout",
          "text": [
            "[0.7, 0.30000000000000004]\n",
            "-0.1\n"
          ]
        }
      ]
    },
    {
      "cell_type": "markdown",
      "source": [
        "# 2. Perceptron aos problemas lógicos AND e OR\n"
      ],
      "metadata": {
        "id": "0JaCHph3Ysx3"
      }
    },
    {
      "cell_type": "markdown",
      "source": [
        "Para a demonstração do Perceptron, foram abordados os problemas lógicos AND e OR. Mas para isso, primeiramente, foi criada a função de treino do Perceptron."
      ],
      "metadata": {
        "id": "i9EOpSQIZtVj"
      }
    },
    {
      "cell_type": "code",
      "source": [],
      "metadata": {
        "id": "yQ8JLSqRZsEw"
      },
      "execution_count": null,
      "outputs": []
    }
  ]
}