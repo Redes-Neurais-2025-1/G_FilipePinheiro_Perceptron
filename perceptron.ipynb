{
  "nbformat": 4,
  "nbformat_minor": 0,
  "metadata": {
    "colab": {
      "provenance": []
    },
    "kernelspec": {
      "name": "python3",
      "display_name": "Python 3"
    },
    "language_info": {
      "name": "python"
    }
  },
  "cells": [
    {
      "cell_type": "markdown",
      "source": [
        "## 1 Introdução ao modelo de Perceptron\n",
        "\n",
        "O modelo de algoritmo Perceptron é um modelo de rede neural utilizado para classificação binária, indicando se um elemento pertence ou não a uma determinada classe. Trata-se de um modelo de aprendizado supervisionado.\n",
        "\n",
        "O Perceptron pode receber n parâmetros de entrada, onde cada entrada possui um peso associado. Esses pesos são ajustados durante o treinamento com base em uma função de erro, de modo a minimizar a diferença entre a saída prevista e a saída esperada."
      ],
      "metadata": {
        "id": "9kPGYu_48LoJ"
      }
    },
    {
      "cell_type": "markdown",
      "source": [
        "Um Perceptron de n entrada pode ter sua fronteira de decisão definida por:\n",
        "\n",
        "\n",
        "$u = x_1 w_1 + x_2 w_2 + \\cdots + x_n w_n + b$"
      ],
      "metadata": {
        "id": "vXbb6nVW_BL2"
      }
    },
    {
      "cell_type": "markdown",
      "source": [
        "Onde na equação:\n",
        "* $u$ é o valor intermediário antes da ativação.\n",
        "* $wi$ são os pesos.\n",
        "* $xi$ são as entradas.\n",
        "* $b$ é o bias (viés).\n",
        "\n"
      ],
      "metadata": {
        "id": "ID8Iz5OIACsG"
      }
    },
    {
      "cell_type": "markdown",
      "source": [
        "Como $xi$ é a entrada, e $wi$ seus pesos, logo o seu produto será $xiwi$. A soma ponderada será $Σxiwi$.\n",
        "\n"
      ],
      "metadata": {
        "id": "YFchrZyUBA5n"
      }
    }
  ]
}